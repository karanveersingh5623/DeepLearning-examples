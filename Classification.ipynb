{
  "nbformat": 4,
  "nbformat_minor": 0,
  "metadata": {
    "colab": {
      "name": "Untitled2.ipynb",
      "provenance": [],
      "authorship_tag": "ABX9TyP3Ih01I8q9JwPpBi7oQUpD",
      "include_colab_link": true
    },
    "kernelspec": {
      "name": "python3",
      "display_name": "Python 3"
    }
  },
  "cells": [
    {
      "cell_type": "markdown",
      "metadata": {
        "id": "view-in-github",
        "colab_type": "text"
      },
      "source": [
        "<a href=\"https://colab.research.google.com/github/karanveersingh5623/DeepLearning-examples/blob/master/Classification.ipynb\" target=\"_parent\"><img src=\"https://colab.research.google.com/assets/colab-badge.svg\" alt=\"Open In Colab\"/></a>"
      ]
    },
    {
      "cell_type": "code",
      "metadata": {
        "id": "UYZM4TZ0cQ-S",
        "colab_type": "code",
        "colab": {}
      },
      "source": [
        "%tensorflow_version 2.x\n",
        "\n",
        "from __future__ import absolute_import, division, print_function, unicode_literals\n",
        "\n",
        "\n",
        "import tensorflow as tf\n",
        "\n",
        "import pandas as pd"
      ],
      "execution_count": null,
      "outputs": []
    },
    {
      "cell_type": "code",
      "metadata": {
        "id": "MCV1urJ7cdkY",
        "colab_type": "code",
        "colab": {}
      },
      "source": [
        "CSV_COLUMN_NAMES = ['SepalLength', 'SepalWidth', 'PetalLength', 'PetalWidth', 'Species']\n",
        "SPECIES = ['Setosa', 'Versicolor', 'Virginica']\n",
        "# Lets define some constants to help us later on"
      ],
      "execution_count": null,
      "outputs": []
    },
    {
      "cell_type": "code",
      "metadata": {
        "id": "LWzMP05DcgFB",
        "colab_type": "code",
        "colab": {}
      },
      "source": [
        "train_path = tf.keras.utils.get_file(\n",
        "    \"iris_training.csv\", \"https://storage.googleapis.com/download.tensorflow.org/data/iris_training.csv\")\n",
        "test_path = tf.keras.utils.get_file(\n",
        "    \"iris_test.csv\", \"https://storage.googleapis.com/download.tensorflow.org/data/iris_test.csv\")\n",
        "\n",
        "train = pd.read_csv(train_path, names=CSV_COLUMN_NAMES, header=0)\n",
        "test = pd.read_csv(test_path, names=CSV_COLUMN_NAMES, header=0)\n",
        "# Here we use keras (a module inside of TensorFlow) to grab our datasets and read them into a pandas dataframe"
      ],
      "execution_count": null,
      "outputs": []
    },
    {
      "cell_type": "code",
      "metadata": {
        "id": "jm6tGiQ7dBQR",
        "colab_type": "code",
        "colab": {
          "base_uri": "https://localhost:8080/",
          "height": 204
        },
        "outputId": "9fd1d851-e9c0-482b-9cf7-f8b79b1d4058"
      },
      "source": [
        "train.head()"
      ],
      "execution_count": null,
      "outputs": [
        {
          "output_type": "execute_result",
          "data": {
            "text/html": [
              "<div>\n",
              "<style scoped>\n",
              "    .dataframe tbody tr th:only-of-type {\n",
              "        vertical-align: middle;\n",
              "    }\n",
              "\n",
              "    .dataframe tbody tr th {\n",
              "        vertical-align: top;\n",
              "    }\n",
              "\n",
              "    .dataframe thead th {\n",
              "        text-align: right;\n",
              "    }\n",
              "</style>\n",
              "<table border=\"1\" class=\"dataframe\">\n",
              "  <thead>\n",
              "    <tr style=\"text-align: right;\">\n",
              "      <th></th>\n",
              "      <th>SepalLength</th>\n",
              "      <th>SepalWidth</th>\n",
              "      <th>PetalLength</th>\n",
              "      <th>PetalWidth</th>\n",
              "      <th>Species</th>\n",
              "    </tr>\n",
              "  </thead>\n",
              "  <tbody>\n",
              "    <tr>\n",
              "      <th>0</th>\n",
              "      <td>6.4</td>\n",
              "      <td>2.8</td>\n",
              "      <td>5.6</td>\n",
              "      <td>2.2</td>\n",
              "      <td>2</td>\n",
              "    </tr>\n",
              "    <tr>\n",
              "      <th>1</th>\n",
              "      <td>5.0</td>\n",
              "      <td>2.3</td>\n",
              "      <td>3.3</td>\n",
              "      <td>1.0</td>\n",
              "      <td>1</td>\n",
              "    </tr>\n",
              "    <tr>\n",
              "      <th>2</th>\n",
              "      <td>4.9</td>\n",
              "      <td>2.5</td>\n",
              "      <td>4.5</td>\n",
              "      <td>1.7</td>\n",
              "      <td>2</td>\n",
              "    </tr>\n",
              "    <tr>\n",
              "      <th>3</th>\n",
              "      <td>4.9</td>\n",
              "      <td>3.1</td>\n",
              "      <td>1.5</td>\n",
              "      <td>0.1</td>\n",
              "      <td>0</td>\n",
              "    </tr>\n",
              "    <tr>\n",
              "      <th>4</th>\n",
              "      <td>5.7</td>\n",
              "      <td>3.8</td>\n",
              "      <td>1.7</td>\n",
              "      <td>0.3</td>\n",
              "      <td>0</td>\n",
              "    </tr>\n",
              "  </tbody>\n",
              "</table>\n",
              "</div>"
            ],
            "text/plain": [
              "   SepalLength  SepalWidth  PetalLength  PetalWidth  Species\n",
              "0          6.4         2.8          5.6         2.2        2\n",
              "1          5.0         2.3          3.3         1.0        1\n",
              "2          4.9         2.5          4.5         1.7        2\n",
              "3          4.9         3.1          1.5         0.1        0\n",
              "4          5.7         3.8          1.7         0.3        0"
            ]
          },
          "metadata": {
            "tags": []
          },
          "execution_count": 12
        }
      ]
    },
    {
      "cell_type": "code",
      "metadata": {
        "id": "RCWSqe6Jdg1o",
        "colab_type": "code",
        "colab": {
          "base_uri": "https://localhost:8080/",
          "height": 34
        },
        "outputId": "a71c506d-a090-438a-c009-f916b7f18ea4"
      },
      "source": [
        "train.shape"
      ],
      "execution_count": null,
      "outputs": [
        {
          "output_type": "execute_result",
          "data": {
            "text/plain": [
              "(120, 5)"
            ]
          },
          "metadata": {
            "tags": []
          },
          "execution_count": 13
        }
      ]
    },
    {
      "cell_type": "code",
      "metadata": {
        "id": "ufE5kPmNdNwn",
        "colab_type": "code",
        "colab": {
          "base_uri": "https://localhost:8080/",
          "height": 204
        },
        "outputId": "8ca576db-ab88-4d18-ba26-fa900aec34b9"
      },
      "source": [
        "train_y = train.pop('Species')\n",
        "test_y = test.pop('Species')\n",
        "train.head() # the species column is now gone"
      ],
      "execution_count": null,
      "outputs": [
        {
          "output_type": "execute_result",
          "data": {
            "text/html": [
              "<div>\n",
              "<style scoped>\n",
              "    .dataframe tbody tr th:only-of-type {\n",
              "        vertical-align: middle;\n",
              "    }\n",
              "\n",
              "    .dataframe tbody tr th {\n",
              "        vertical-align: top;\n",
              "    }\n",
              "\n",
              "    .dataframe thead th {\n",
              "        text-align: right;\n",
              "    }\n",
              "</style>\n",
              "<table border=\"1\" class=\"dataframe\">\n",
              "  <thead>\n",
              "    <tr style=\"text-align: right;\">\n",
              "      <th></th>\n",
              "      <th>SepalLength</th>\n",
              "      <th>SepalWidth</th>\n",
              "      <th>PetalLength</th>\n",
              "      <th>PetalWidth</th>\n",
              "    </tr>\n",
              "  </thead>\n",
              "  <tbody>\n",
              "    <tr>\n",
              "      <th>0</th>\n",
              "      <td>6.4</td>\n",
              "      <td>2.8</td>\n",
              "      <td>5.6</td>\n",
              "      <td>2.2</td>\n",
              "    </tr>\n",
              "    <tr>\n",
              "      <th>1</th>\n",
              "      <td>5.0</td>\n",
              "      <td>2.3</td>\n",
              "      <td>3.3</td>\n",
              "      <td>1.0</td>\n",
              "    </tr>\n",
              "    <tr>\n",
              "      <th>2</th>\n",
              "      <td>4.9</td>\n",
              "      <td>2.5</td>\n",
              "      <td>4.5</td>\n",
              "      <td>1.7</td>\n",
              "    </tr>\n",
              "    <tr>\n",
              "      <th>3</th>\n",
              "      <td>4.9</td>\n",
              "      <td>3.1</td>\n",
              "      <td>1.5</td>\n",
              "      <td>0.1</td>\n",
              "    </tr>\n",
              "    <tr>\n",
              "      <th>4</th>\n",
              "      <td>5.7</td>\n",
              "      <td>3.8</td>\n",
              "      <td>1.7</td>\n",
              "      <td>0.3</td>\n",
              "    </tr>\n",
              "  </tbody>\n",
              "</table>\n",
              "</div>"
            ],
            "text/plain": [
              "   SepalLength  SepalWidth  PetalLength  PetalWidth\n",
              "0          6.4         2.8          5.6         2.2\n",
              "1          5.0         2.3          3.3         1.0\n",
              "2          4.9         2.5          4.5         1.7\n",
              "3          4.9         3.1          1.5         0.1\n",
              "4          5.7         3.8          1.7         0.3"
            ]
          },
          "metadata": {
            "tags": []
          },
          "execution_count": 14
        }
      ]
    },
    {
      "cell_type": "code",
      "metadata": {
        "id": "NVyPvnM4dUez",
        "colab_type": "code",
        "colab": {
          "base_uri": "https://localhost:8080/",
          "height": 34
        },
        "outputId": "4e4217cf-b2ce-4096-8d32-600518356c53"
      },
      "source": [
        "train.shape  # we have 120 entires with 4 features"
      ],
      "execution_count": null,
      "outputs": [
        {
          "output_type": "execute_result",
          "data": {
            "text/plain": [
              "(120, 4)"
            ]
          },
          "metadata": {
            "tags": []
          },
          "execution_count": 15
        }
      ]
    },
    {
      "cell_type": "code",
      "metadata": {
        "id": "Ux0LmsBzgKZc",
        "colab_type": "code",
        "colab": {}
      },
      "source": [
        "def input_fn(features, labels, training=True, batch_size=256):\n",
        "    # Convert the inputs to a Dataset.\n",
        "    dataset = tf.data.Dataset.from_tensor_slices((dict(features), labels))\n",
        "\n",
        "    # Shuffle and repeat if you are in training mode.\n",
        "    if training:\n",
        "        dataset = dataset.shuffle(1000).repeat()\n",
        "    \n",
        "    return dataset.batch(batch_size)"
      ],
      "execution_count": null,
      "outputs": []
    },
    {
      "cell_type": "code",
      "metadata": {
        "id": "bXqKfX0TgMRB",
        "colab_type": "code",
        "colab": {
          "base_uri": "https://localhost:8080/",
          "height": 54
        },
        "outputId": "17234314-2cb0-444b-9b67-558d0805efcf"
      },
      "source": [
        "# Feature columns describe how to use the input.\n",
        "my_feature_columns = []\n",
        "for key in train.keys():\n",
        "    my_feature_columns.append(tf.feature_column.numeric_column(key=key))\n",
        "print(my_feature_columns)"
      ],
      "execution_count": null,
      "outputs": [
        {
          "output_type": "stream",
          "text": [
            "[NumericColumn(key='SepalLength', shape=(1,), default_value=None, dtype=tf.float32, normalizer_fn=None), NumericColumn(key='SepalWidth', shape=(1,), default_value=None, dtype=tf.float32, normalizer_fn=None), NumericColumn(key='PetalLength', shape=(1,), default_value=None, dtype=tf.float32, normalizer_fn=None), NumericColumn(key='PetalWidth', shape=(1,), default_value=None, dtype=tf.float32, normalizer_fn=None)]\n"
          ],
          "name": "stdout"
        }
      ]
    },
    {
      "cell_type": "code",
      "metadata": {
        "id": "QU-J8Hu8gPzH",
        "colab_type": "code",
        "colab": {
          "base_uri": "https://localhost:8080/",
          "height": 190
        },
        "outputId": "48c84c9c-2b4b-452b-ee58-8053006eec2e"
      },
      "source": [
        "# Build a DNN with 2 hidden layers with 30 and 10 hidden nodes each.\n",
        "classifier = tf.estimator.DNNClassifier(\n",
        "    feature_columns=my_feature_columns,\n",
        "    # Two hidden layers of 30 and 10 nodes respectively.\n",
        "    hidden_units=[30, 10],\n",
        "    # The model must choose between 3 classes.\n",
        "    n_classes=3)"
      ],
      "execution_count": null,
      "outputs": [
        {
          "output_type": "stream",
          "text": [
            "INFO:tensorflow:Using default config.\n",
            "WARNING:tensorflow:Using temporary folder as model directory: /tmp/tmphgft9wqg\n",
            "INFO:tensorflow:Using config: {'_model_dir': '/tmp/tmphgft9wqg', '_tf_random_seed': None, '_save_summary_steps': 100, '_save_checkpoints_steps': None, '_save_checkpoints_secs': 600, '_session_config': allow_soft_placement: true\n",
            "graph_options {\n",
            "  rewrite_options {\n",
            "    meta_optimizer_iterations: ONE\n",
            "  }\n",
            "}\n",
            ", '_keep_checkpoint_max': 5, '_keep_checkpoint_every_n_hours': 10000, '_log_step_count_steps': 100, '_train_distribute': None, '_device_fn': None, '_protocol': None, '_eval_distribute': None, '_experimental_distribute': None, '_experimental_max_worker_delay_secs': None, '_session_creation_timeout_secs': 7200, '_service': None, '_cluster_spec': ClusterSpec({}), '_task_type': 'worker', '_task_id': 0, '_global_id_in_cluster': 0, '_master': '', '_evaluation_master': '', '_is_chief': True, '_num_ps_replicas': 0, '_num_worker_replicas': 1}\n"
          ],
          "name": "stdout"
        }
      ]
    },
    {
      "cell_type": "code",
      "metadata": {
        "id": "H9AOzlMmgns-",
        "colab_type": "code",
        "colab": {
          "base_uri": "https://localhost:8080/",
          "height": 1000
        },
        "outputId": "c0f85dd9-e42d-4e51-f190-bd6e8014edcf"
      },
      "source": [
        "classifier.train(\n",
        "    input_fn=lambda: input_fn(train, train_y, training=True),\n",
        "    steps=5000)\n",
        "# We include a lambda to avoid creating an inner function previously\n",
        "\n",
        "eval_result = classifier.evaluate(\n",
        "    input_fn=lambda: input_fn(test, test_y, training=False))\n",
        "\n",
        "print('\\nTest set accuracy: {accuracy:0.3f}\\n'.format(**eval_result))"
      ],
      "execution_count": null,
      "outputs": [
        {
          "output_type": "stream",
          "text": [
            "INFO:tensorflow:Calling model_fn.\n",
            "WARNING:tensorflow:Layer dnn is casting an input tensor from dtype float64 to the layer's dtype of float32, which is new behavior in TensorFlow 2.  The layer has dtype float32 because its dtype defaults to floatx.\n",
            "\n",
            "If you intended to run this layer in float32, you can safely ignore this warning. If in doubt, this warning is likely only an issue if you are porting a TensorFlow 1.X model to TensorFlow 2.\n",
            "\n",
            "To change all layers to have dtype float64 by default, call `tf.keras.backend.set_floatx('float64')`. To change just this layer, pass dtype='float64' to the layer constructor. If you are the author of this layer, you can disable autocasting by passing autocast=False to the base Layer constructor.\n",
            "\n",
            "INFO:tensorflow:Done calling model_fn.\n",
            "INFO:tensorflow:Create CheckpointSaverHook.\n",
            "INFO:tensorflow:Graph was finalized.\n",
            "INFO:tensorflow:Restoring parameters from /tmp/tmphgft9wqg/model.ckpt-10000\n",
            "INFO:tensorflow:Running local_init_op.\n",
            "INFO:tensorflow:Done running local_init_op.\n",
            "INFO:tensorflow:Calling checkpoint listeners before saving checkpoint 10000...\n",
            "INFO:tensorflow:Saving checkpoints for 10000 into /tmp/tmphgft9wqg/model.ckpt.\n",
            "INFO:tensorflow:Calling checkpoint listeners after saving checkpoint 10000...\n",
            "INFO:tensorflow:loss = 0.47399867, step = 10000\n",
            "INFO:tensorflow:global_step/sec: 401.98\n",
            "INFO:tensorflow:loss = 0.45909834, step = 10100 (0.253 sec)\n",
            "INFO:tensorflow:global_step/sec: 482.55\n",
            "INFO:tensorflow:loss = 0.46316412, step = 10200 (0.205 sec)\n",
            "INFO:tensorflow:global_step/sec: 452.907\n",
            "INFO:tensorflow:loss = 0.44620293, step = 10300 (0.221 sec)\n",
            "INFO:tensorflow:global_step/sec: 461.522\n",
            "INFO:tensorflow:loss = 0.42869195, step = 10400 (0.217 sec)\n",
            "INFO:tensorflow:global_step/sec: 421.442\n",
            "INFO:tensorflow:loss = 0.43525168, step = 10500 (0.238 sec)\n",
            "INFO:tensorflow:global_step/sec: 416.676\n",
            "INFO:tensorflow:loss = 0.42381284, step = 10600 (0.240 sec)\n",
            "INFO:tensorflow:global_step/sec: 441.785\n",
            "INFO:tensorflow:loss = 0.41429895, step = 10700 (0.229 sec)\n",
            "INFO:tensorflow:global_step/sec: 428.536\n",
            "INFO:tensorflow:loss = 0.40865657, step = 10800 (0.231 sec)\n",
            "INFO:tensorflow:global_step/sec: 425.369\n",
            "INFO:tensorflow:loss = 0.39968863, step = 10900 (0.234 sec)\n",
            "INFO:tensorflow:global_step/sec: 441.861\n",
            "INFO:tensorflow:loss = 0.4034438, step = 11000 (0.229 sec)\n",
            "INFO:tensorflow:global_step/sec: 475.134\n",
            "INFO:tensorflow:loss = 0.39238027, step = 11100 (0.210 sec)\n",
            "INFO:tensorflow:global_step/sec: 423.266\n",
            "INFO:tensorflow:loss = 0.38495424, step = 11200 (0.236 sec)\n",
            "INFO:tensorflow:global_step/sec: 453.304\n",
            "INFO:tensorflow:loss = 0.3908835, step = 11300 (0.221 sec)\n",
            "INFO:tensorflow:global_step/sec: 491.703\n",
            "INFO:tensorflow:loss = 0.3711462, step = 11400 (0.200 sec)\n",
            "INFO:tensorflow:global_step/sec: 473.808\n",
            "INFO:tensorflow:loss = 0.37842363, step = 11500 (0.211 sec)\n",
            "INFO:tensorflow:global_step/sec: 440.795\n",
            "INFO:tensorflow:loss = 0.369155, step = 11600 (0.228 sec)\n",
            "INFO:tensorflow:global_step/sec: 416.117\n",
            "INFO:tensorflow:loss = 0.3813257, step = 11700 (0.239 sec)\n",
            "INFO:tensorflow:global_step/sec: 452.012\n",
            "INFO:tensorflow:loss = 0.3645941, step = 11800 (0.221 sec)\n",
            "INFO:tensorflow:global_step/sec: 455.021\n",
            "INFO:tensorflow:loss = 0.36552808, step = 11900 (0.221 sec)\n",
            "INFO:tensorflow:global_step/sec: 485.277\n",
            "INFO:tensorflow:loss = 0.35785386, step = 12000 (0.210 sec)\n",
            "INFO:tensorflow:global_step/sec: 482.479\n",
            "INFO:tensorflow:loss = 0.35701624, step = 12100 (0.209 sec)\n",
            "INFO:tensorflow:global_step/sec: 423.632\n",
            "INFO:tensorflow:loss = 0.35418838, step = 12200 (0.230 sec)\n",
            "INFO:tensorflow:global_step/sec: 464.31\n",
            "INFO:tensorflow:loss = 0.35378617, step = 12300 (0.216 sec)\n",
            "INFO:tensorflow:global_step/sec: 409.33\n",
            "INFO:tensorflow:loss = 0.34429526, step = 12400 (0.243 sec)\n",
            "INFO:tensorflow:global_step/sec: 464.008\n",
            "INFO:tensorflow:loss = 0.33450752, step = 12500 (0.218 sec)\n",
            "INFO:tensorflow:global_step/sec: 499.007\n",
            "INFO:tensorflow:loss = 0.33431575, step = 12600 (0.198 sec)\n",
            "INFO:tensorflow:global_step/sec: 458.65\n",
            "INFO:tensorflow:loss = 0.33316696, step = 12700 (0.218 sec)\n",
            "INFO:tensorflow:global_step/sec: 483.601\n",
            "INFO:tensorflow:loss = 0.32910812, step = 12800 (0.210 sec)\n",
            "INFO:tensorflow:global_step/sec: 460.714\n",
            "INFO:tensorflow:loss = 0.32851142, step = 12900 (0.214 sec)\n",
            "INFO:tensorflow:global_step/sec: 463.347\n",
            "INFO:tensorflow:loss = 0.32315314, step = 13000 (0.219 sec)\n",
            "INFO:tensorflow:global_step/sec: 429.306\n",
            "INFO:tensorflow:loss = 0.31551492, step = 13100 (0.230 sec)\n",
            "INFO:tensorflow:global_step/sec: 421\n",
            "INFO:tensorflow:loss = 0.31842577, step = 13200 (0.238 sec)\n",
            "INFO:tensorflow:global_step/sec: 447.528\n",
            "INFO:tensorflow:loss = 0.3182996, step = 13300 (0.225 sec)\n",
            "INFO:tensorflow:global_step/sec: 492.404\n",
            "INFO:tensorflow:loss = 0.31317776, step = 13400 (0.202 sec)\n",
            "INFO:tensorflow:global_step/sec: 448.671\n",
            "INFO:tensorflow:loss = 0.2993805, step = 13500 (0.223 sec)\n",
            "INFO:tensorflow:global_step/sec: 409.247\n",
            "INFO:tensorflow:loss = 0.30399027, step = 13600 (0.246 sec)\n",
            "INFO:tensorflow:global_step/sec: 442.872\n",
            "INFO:tensorflow:loss = 0.29949588, step = 13700 (0.224 sec)\n",
            "INFO:tensorflow:global_step/sec: 425.903\n",
            "INFO:tensorflow:loss = 0.29545152, step = 13800 (0.235 sec)\n",
            "INFO:tensorflow:global_step/sec: 363.56\n",
            "INFO:tensorflow:loss = 0.29504862, step = 13900 (0.274 sec)\n",
            "INFO:tensorflow:global_step/sec: 456.095\n",
            "INFO:tensorflow:loss = 0.28779235, step = 14000 (0.223 sec)\n",
            "INFO:tensorflow:global_step/sec: 487.412\n",
            "INFO:tensorflow:loss = 0.29485828, step = 14100 (0.204 sec)\n",
            "INFO:tensorflow:global_step/sec: 422.535\n",
            "INFO:tensorflow:loss = 0.29574698, step = 14200 (0.237 sec)\n",
            "INFO:tensorflow:global_step/sec: 430.384\n",
            "INFO:tensorflow:loss = 0.27561837, step = 14300 (0.229 sec)\n",
            "INFO:tensorflow:global_step/sec: 474.764\n",
            "INFO:tensorflow:loss = 0.28787014, step = 14400 (0.210 sec)\n",
            "INFO:tensorflow:global_step/sec: 425.065\n",
            "INFO:tensorflow:loss = 0.28550646, step = 14500 (0.236 sec)\n",
            "INFO:tensorflow:global_step/sec: 431.416\n",
            "INFO:tensorflow:loss = 0.28463158, step = 14600 (0.232 sec)\n",
            "INFO:tensorflow:global_step/sec: 435.714\n",
            "INFO:tensorflow:loss = 0.27380538, step = 14700 (0.229 sec)\n",
            "INFO:tensorflow:global_step/sec: 367.917\n",
            "INFO:tensorflow:loss = 0.2772193, step = 14800 (0.275 sec)\n",
            "INFO:tensorflow:global_step/sec: 351.435\n",
            "INFO:tensorflow:loss = 0.2739706, step = 14900 (0.286 sec)\n",
            "INFO:tensorflow:Calling checkpoint listeners before saving checkpoint 15000...\n",
            "INFO:tensorflow:Saving checkpoints for 15000 into /tmp/tmphgft9wqg/model.ckpt.\n",
            "INFO:tensorflow:Calling checkpoint listeners after saving checkpoint 15000...\n",
            "INFO:tensorflow:Loss for final step: 0.2722754.\n",
            "INFO:tensorflow:Calling model_fn.\n",
            "WARNING:tensorflow:Layer dnn is casting an input tensor from dtype float64 to the layer's dtype of float32, which is new behavior in TensorFlow 2.  The layer has dtype float32 because its dtype defaults to floatx.\n",
            "\n",
            "If you intended to run this layer in float32, you can safely ignore this warning. If in doubt, this warning is likely only an issue if you are porting a TensorFlow 1.X model to TensorFlow 2.\n",
            "\n",
            "To change all layers to have dtype float64 by default, call `tf.keras.backend.set_floatx('float64')`. To change just this layer, pass dtype='float64' to the layer constructor. If you are the author of this layer, you can disable autocasting by passing autocast=False to the base Layer constructor.\n",
            "\n",
            "INFO:tensorflow:Done calling model_fn.\n",
            "INFO:tensorflow:Starting evaluation at 2020-09-13T08:18:00Z\n",
            "INFO:tensorflow:Graph was finalized.\n",
            "INFO:tensorflow:Restoring parameters from /tmp/tmphgft9wqg/model.ckpt-15000\n",
            "INFO:tensorflow:Running local_init_op.\n",
            "INFO:tensorflow:Done running local_init_op.\n",
            "INFO:tensorflow:Inference Time : 0.26961s\n",
            "INFO:tensorflow:Finished evaluation at 2020-09-13-08:18:01\n",
            "INFO:tensorflow:Saving dict for global step 15000: accuracy = 0.96666664, average_loss = 0.31313512, global_step = 15000, loss = 0.31313512\n",
            "INFO:tensorflow:Saving 'checkpoint_path' summary for global step 15000: /tmp/tmphgft9wqg/model.ckpt-15000\n",
            "\n",
            "Test set accuracy: 0.967\n",
            "\n"
          ],
          "name": "stdout"
        }
      ]
    },
    {
      "cell_type": "code",
      "metadata": {
        "id": "VvCaujmLkXBo",
        "colab_type": "code",
        "colab": {
          "base_uri": "https://localhost:8080/",
          "height": 221
        },
        "outputId": "19d20ef3-f92a-4034-cd55-e457b14080c3"
      },
      "source": [
        "def input_fn(features, batch_size=256):\n",
        "    # Convert the inputs to a Dataset without labels.\n",
        "    return tf.data.Dataset.from_tensor_slices(dict(features)).batch(batch_size)\n",
        "\n",
        "features = ['SepalLength', 'SepalWidth', 'PetalLength', 'PetalWidth']\n",
        "predict = {}\n",
        "\n",
        "print(\"Please type numeric values as prompted.\")\n",
        "for feature in features:\n",
        "  valid = True\n",
        "  while valid: \n",
        "    val = input(feature + \": \")\n",
        "    if not val.isdigit(): valid = False\n",
        "\n",
        "  predict[feature] = [float(val)]\n",
        "\n",
        "predictions = classifier.predict(input_fn=lambda: input_fn(predict))\n",
        "for pred_dict in predictions:\n",
        "    class_id = pred_dict['class_ids'][0]\n",
        "    probability = pred_dict['probabilities'][class_id]\n",
        "\n",
        "    print('Prediction is \"{}\" ({:.1f}%)'.format(\n",
        "        SPECIES[class_id], 100 * probability))\n"
      ],
      "execution_count": null,
      "outputs": [
        {
          "output_type": "stream",
          "text": [
            "Please type numeric values as prompted.\n",
            "SepalLength: 5.9\n",
            "SepalWidth: 3.0\n",
            "PetalLength: 4.2\n",
            "PetalWidth: 1.5\n",
            "INFO:tensorflow:Calling model_fn.\n",
            "INFO:tensorflow:Done calling model_fn.\n",
            "INFO:tensorflow:Graph was finalized.\n",
            "INFO:tensorflow:Restoring parameters from /tmp/tmphgft9wqg/model.ckpt-15000\n",
            "INFO:tensorflow:Running local_init_op.\n",
            "INFO:tensorflow:Done running local_init_op.\n",
            "Prediction is \"Versicolor\" (65.9%)\n"
          ],
          "name": "stdout"
        }
      ]
    }
  ]
}